{
  "nbformat": 4,
  "nbformat_minor": 0,
  "metadata": {
    "colab": {
      "name": "[FULL CODE] Lecture 8_Variational Autoencoder",
      "provenance": [],
      "collapsed_sections": [],
      "authorship_tag": "ABX9TyMp8dy6tmtegtHEWVR6HtXq",
      "include_colab_link": true
    },
    "kernelspec": {
      "name": "python3",
      "display_name": "Python 3"
    },
    "accelerator": "GPU",
    "widgets": {
      "application/vnd.jupyter.widget-state+json": {
        "7a128abdefa3476dbed0ff1430e2970f": {
          "model_module": "@jupyter-widgets/controls",
          "model_name": "HBoxModel",
          "state": {
            "_view_name": "HBoxView",
            "_dom_classes": [],
            "_model_name": "HBoxModel",
            "_view_module": "@jupyter-widgets/controls",
            "_model_module_version": "1.5.0",
            "_view_count": null,
            "_view_module_version": "1.5.0",
            "box_style": "",
            "layout": "IPY_MODEL_3b3ed20fac054cf8b8606094815b36c6",
            "_model_module": "@jupyter-widgets/controls",
            "children": [
              "IPY_MODEL_a05441d5fa5748719a6da5bfda08077b",
              "IPY_MODEL_ba4c9fc4f6d6416682c4a6ed7de601aa"
            ]
          }
        },
        "3b3ed20fac054cf8b8606094815b36c6": {
          "model_module": "@jupyter-widgets/base",
          "model_name": "LayoutModel",
          "state": {
            "_view_name": "LayoutView",
            "grid_template_rows": null,
            "right": null,
            "justify_content": null,
            "_view_module": "@jupyter-widgets/base",
            "overflow": null,
            "_model_module_version": "1.2.0",
            "_view_count": null,
            "flex_flow": null,
            "width": null,
            "min_width": null,
            "border": null,
            "align_items": null,
            "bottom": null,
            "_model_module": "@jupyter-widgets/base",
            "top": null,
            "grid_column": null,
            "overflow_y": null,
            "overflow_x": null,
            "grid_auto_flow": null,
            "grid_area": null,
            "grid_template_columns": null,
            "flex": null,
            "_model_name": "LayoutModel",
            "justify_items": null,
            "grid_row": null,
            "max_height": null,
            "align_content": null,
            "visibility": null,
            "align_self": null,
            "height": null,
            "min_height": null,
            "padding": null,
            "grid_auto_rows": null,
            "grid_gap": null,
            "max_width": null,
            "order": null,
            "_view_module_version": "1.2.0",
            "grid_template_areas": null,
            "object_position": null,
            "object_fit": null,
            "grid_auto_columns": null,
            "margin": null,
            "display": null,
            "left": null
          }
        },
        "a05441d5fa5748719a6da5bfda08077b": {
          "model_module": "@jupyter-widgets/controls",
          "model_name": "FloatProgressModel",
          "state": {
            "_view_name": "ProgressView",
            "style": "IPY_MODEL_cad9fa4c88e341d5894e98518bd72405",
            "_dom_classes": [],
            "description": "",
            "_model_name": "FloatProgressModel",
            "bar_style": "success",
            "max": 1,
            "_view_module": "@jupyter-widgets/controls",
            "_model_module_version": "1.5.0",
            "value": 1,
            "_view_count": null,
            "_view_module_version": "1.5.0",
            "orientation": "horizontal",
            "min": 0,
            "description_tooltip": null,
            "_model_module": "@jupyter-widgets/controls",
            "layout": "IPY_MODEL_979853b9a2b5427496bcde99846ab9e5"
          }
        },
        "ba4c9fc4f6d6416682c4a6ed7de601aa": {
          "model_module": "@jupyter-widgets/controls",
          "model_name": "HTMLModel",
          "state": {
            "_view_name": "HTMLView",
            "style": "IPY_MODEL_98a70b8830194852a7c19bb0f15c3269",
            "_dom_classes": [],
            "description": "",
            "_model_name": "HTMLModel",
            "placeholder": "​",
            "_view_module": "@jupyter-widgets/controls",
            "_model_module_version": "1.5.0",
            "value": " 20000/? [00:04&lt;00:00, 4447.25it/s]",
            "_view_count": null,
            "_view_module_version": "1.5.0",
            "description_tooltip": null,
            "_model_module": "@jupyter-widgets/controls",
            "layout": "IPY_MODEL_f4b186dfef134bc6a8612944edf572b3"
          }
        },
        "cad9fa4c88e341d5894e98518bd72405": {
          "model_module": "@jupyter-widgets/controls",
          "model_name": "ProgressStyleModel",
          "state": {
            "_view_name": "StyleView",
            "_model_name": "ProgressStyleModel",
            "description_width": "initial",
            "_view_module": "@jupyter-widgets/base",
            "_model_module_version": "1.5.0",
            "_view_count": null,
            "_view_module_version": "1.2.0",
            "bar_color": null,
            "_model_module": "@jupyter-widgets/controls"
          }
        },
        "979853b9a2b5427496bcde99846ab9e5": {
          "model_module": "@jupyter-widgets/base",
          "model_name": "LayoutModel",
          "state": {
            "_view_name": "LayoutView",
            "grid_template_rows": null,
            "right": null,
            "justify_content": null,
            "_view_module": "@jupyter-widgets/base",
            "overflow": null,
            "_model_module_version": "1.2.0",
            "_view_count": null,
            "flex_flow": null,
            "width": null,
            "min_width": null,
            "border": null,
            "align_items": null,
            "bottom": null,
            "_model_module": "@jupyter-widgets/base",
            "top": null,
            "grid_column": null,
            "overflow_y": null,
            "overflow_x": null,
            "grid_auto_flow": null,
            "grid_area": null,
            "grid_template_columns": null,
            "flex": null,
            "_model_name": "LayoutModel",
            "justify_items": null,
            "grid_row": null,
            "max_height": null,
            "align_content": null,
            "visibility": null,
            "align_self": null,
            "height": null,
            "min_height": null,
            "padding": null,
            "grid_auto_rows": null,
            "grid_gap": null,
            "max_width": null,
            "order": null,
            "_view_module_version": "1.2.0",
            "grid_template_areas": null,
            "object_position": null,
            "object_fit": null,
            "grid_auto_columns": null,
            "margin": null,
            "display": null,
            "left": null
          }
        },
        "98a70b8830194852a7c19bb0f15c3269": {
          "model_module": "@jupyter-widgets/controls",
          "model_name": "DescriptionStyleModel",
          "state": {
            "_view_name": "StyleView",
            "_model_name": "DescriptionStyleModel",
            "description_width": "",
            "_view_module": "@jupyter-widgets/base",
            "_model_module_version": "1.5.0",
            "_view_count": null,
            "_view_module_version": "1.2.0",
            "_model_module": "@jupyter-widgets/controls"
          }
        },
        "f4b186dfef134bc6a8612944edf572b3": {
          "model_module": "@jupyter-widgets/base",
          "model_name": "LayoutModel",
          "state": {
            "_view_name": "LayoutView",
            "grid_template_rows": null,
            "right": null,
            "justify_content": null,
            "_view_module": "@jupyter-widgets/base",
            "overflow": null,
            "_model_module_version": "1.2.0",
            "_view_count": null,
            "flex_flow": null,
            "width": null,
            "min_width": null,
            "border": null,
            "align_items": null,
            "bottom": null,
            "_model_module": "@jupyter-widgets/base",
            "top": null,
            "grid_column": null,
            "overflow_y": null,
            "overflow_x": null,
            "grid_auto_flow": null,
            "grid_area": null,
            "grid_template_columns": null,
            "flex": null,
            "_model_name": "LayoutModel",
            "justify_items": null,
            "grid_row": null,
            "max_height": null,
            "align_content": null,
            "visibility": null,
            "align_self": null,
            "height": null,
            "min_height": null,
            "padding": null,
            "grid_auto_rows": null,
            "grid_gap": null,
            "max_width": null,
            "order": null,
            "_view_module_version": "1.2.0",
            "grid_template_areas": null,
            "object_position": null,
            "object_fit": null,
            "grid_auto_columns": null,
            "margin": null,
            "display": null,
            "left": null
          }
        },
        "4115a30faee349a38f166d52f3aa81b7": {
          "model_module": "@jupyter-widgets/controls",
          "model_name": "HBoxModel",
          "state": {
            "_view_name": "HBoxView",
            "_dom_classes": [],
            "_model_name": "HBoxModel",
            "_view_module": "@jupyter-widgets/controls",
            "_model_module_version": "1.5.0",
            "_view_count": null,
            "_view_module_version": "1.5.0",
            "box_style": "",
            "layout": "IPY_MODEL_9af51c6ec46f4dafae417402e7db0fca",
            "_model_module": "@jupyter-widgets/controls",
            "children": [
              "IPY_MODEL_e3f114a544254e2fb275dacf0ce758a3",
              "IPY_MODEL_789fa16922474c9c917f2c60106f6868"
            ]
          }
        },
        "9af51c6ec46f4dafae417402e7db0fca": {
          "model_module": "@jupyter-widgets/base",
          "model_name": "LayoutModel",
          "state": {
            "_view_name": "LayoutView",
            "grid_template_rows": null,
            "right": null,
            "justify_content": null,
            "_view_module": "@jupyter-widgets/base",
            "overflow": null,
            "_model_module_version": "1.2.0",
            "_view_count": null,
            "flex_flow": null,
            "width": null,
            "min_width": null,
            "border": null,
            "align_items": null,
            "bottom": null,
            "_model_module": "@jupyter-widgets/base",
            "top": null,
            "grid_column": null,
            "overflow_y": null,
            "overflow_x": null,
            "grid_auto_flow": null,
            "grid_area": null,
            "grid_template_columns": null,
            "flex": null,
            "_model_name": "LayoutModel",
            "justify_items": null,
            "grid_row": null,
            "max_height": null,
            "align_content": null,
            "visibility": null,
            "align_self": null,
            "height": null,
            "min_height": null,
            "padding": null,
            "grid_auto_rows": null,
            "grid_gap": null,
            "max_width": null,
            "order": null,
            "_view_module_version": "1.2.0",
            "grid_template_areas": null,
            "object_position": null,
            "object_fit": null,
            "grid_auto_columns": null,
            "margin": null,
            "display": null,
            "left": null
          }
        },
        "e3f114a544254e2fb275dacf0ce758a3": {
          "model_module": "@jupyter-widgets/controls",
          "model_name": "FloatProgressModel",
          "state": {
            "_view_name": "ProgressView",
            "style": "IPY_MODEL_3e8037a2b9b9438182e33875eb4190c1",
            "_dom_classes": [],
            "description": "",
            "_model_name": "FloatProgressModel",
            "bar_style": "success",
            "max": 1,
            "_view_module": "@jupyter-widgets/controls",
            "_model_module_version": "1.5.0",
            "value": 1,
            "_view_count": null,
            "_view_module_version": "1.5.0",
            "orientation": "horizontal",
            "min": 0,
            "description_tooltip": null,
            "_model_module": "@jupyter-widgets/controls",
            "layout": "IPY_MODEL_2e69e24610874d53a21d9e7cb4c36896"
          }
        },
        "789fa16922474c9c917f2c60106f6868": {
          "model_module": "@jupyter-widgets/controls",
          "model_name": "HTMLModel",
          "state": {
            "_view_name": "HTMLView",
            "style": "IPY_MODEL_4393e1f81fae4cbebb77fb1e06b9742d",
            "_dom_classes": [],
            "description": "",
            "_model_name": "HTMLModel",
            "placeholder": "​",
            "_view_module": "@jupyter-widgets/controls",
            "_model_module_version": "1.5.0",
            "value": " 10000/? [00:01&lt;00:00, 6843.08it/s]",
            "_view_count": null,
            "_view_module_version": "1.5.0",
            "description_tooltip": null,
            "_model_module": "@jupyter-widgets/controls",
            "layout": "IPY_MODEL_83a60818e4bf49a882351efbaa6c9085"
          }
        },
        "3e8037a2b9b9438182e33875eb4190c1": {
          "model_module": "@jupyter-widgets/controls",
          "model_name": "ProgressStyleModel",
          "state": {
            "_view_name": "StyleView",
            "_model_name": "ProgressStyleModel",
            "description_width": "initial",
            "_view_module": "@jupyter-widgets/base",
            "_model_module_version": "1.5.0",
            "_view_count": null,
            "_view_module_version": "1.2.0",
            "bar_color": null,
            "_model_module": "@jupyter-widgets/controls"
          }
        },
        "2e69e24610874d53a21d9e7cb4c36896": {
          "model_module": "@jupyter-widgets/base",
          "model_name": "LayoutModel",
          "state": {
            "_view_name": "LayoutView",
            "grid_template_rows": null,
            "right": null,
            "justify_content": null,
            "_view_module": "@jupyter-widgets/base",
            "overflow": null,
            "_model_module_version": "1.2.0",
            "_view_count": null,
            "flex_flow": null,
            "width": null,
            "min_width": null,
            "border": null,
            "align_items": null,
            "bottom": null,
            "_model_module": "@jupyter-widgets/base",
            "top": null,
            "grid_column": null,
            "overflow_y": null,
            "overflow_x": null,
            "grid_auto_flow": null,
            "grid_area": null,
            "grid_template_columns": null,
            "flex": null,
            "_model_name": "LayoutModel",
            "justify_items": null,
            "grid_row": null,
            "max_height": null,
            "align_content": null,
            "visibility": null,
            "align_self": null,
            "height": null,
            "min_height": null,
            "padding": null,
            "grid_auto_rows": null,
            "grid_gap": null,
            "max_width": null,
            "order": null,
            "_view_module_version": "1.2.0",
            "grid_template_areas": null,
            "object_position": null,
            "object_fit": null,
            "grid_auto_columns": null,
            "margin": null,
            "display": null,
            "left": null
          }
        },
        "4393e1f81fae4cbebb77fb1e06b9742d": {
          "model_module": "@jupyter-widgets/controls",
          "model_name": "DescriptionStyleModel",
          "state": {
            "_view_name": "StyleView",
            "_model_name": "DescriptionStyleModel",
            "description_width": "",
            "_view_module": "@jupyter-widgets/base",
            "_model_module_version": "1.5.0",
            "_view_count": null,
            "_view_module_version": "1.2.0",
            "_model_module": "@jupyter-widgets/controls"
          }
        },
        "83a60818e4bf49a882351efbaa6c9085": {
          "model_module": "@jupyter-widgets/base",
          "model_name": "LayoutModel",
          "state": {
            "_view_name": "LayoutView",
            "grid_template_rows": null,
            "right": null,
            "justify_content": null,
            "_view_module": "@jupyter-widgets/base",
            "overflow": null,
            "_model_module_version": "1.2.0",
            "_view_count": null,
            "flex_flow": null,
            "width": null,
            "min_width": null,
            "border": null,
            "align_items": null,
            "bottom": null,
            "_model_module": "@jupyter-widgets/base",
            "top": null,
            "grid_column": null,
            "overflow_y": null,
            "overflow_x": null,
            "grid_auto_flow": null,
            "grid_area": null,
            "grid_template_columns": null,
            "flex": null,
            "_model_name": "LayoutModel",
            "justify_items": null,
            "grid_row": null,
            "max_height": null,
            "align_content": null,
            "visibility": null,
            "align_self": null,
            "height": null,
            "min_height": null,
            "padding": null,
            "grid_auto_rows": null,
            "grid_gap": null,
            "max_width": null,
            "order": null,
            "_view_module_version": "1.2.0",
            "grid_template_areas": null,
            "object_position": null,
            "object_fit": null,
            "grid_auto_columns": null,
            "margin": null,
            "display": null,
            "left": null
          }
        },
        "22b56bebbb4742088f953644f03056da": {
          "model_module": "@jupyter-widgets/controls",
          "model_name": "HBoxModel",
          "state": {
            "_view_name": "HBoxView",
            "_dom_classes": [],
            "_model_name": "HBoxModel",
            "_view_module": "@jupyter-widgets/controls",
            "_model_module_version": "1.5.0",
            "_view_count": null,
            "_view_module_version": "1.5.0",
            "box_style": "",
            "layout": "IPY_MODEL_4630f78ca78f47e7ba5cc021a50bab26",
            "_model_module": "@jupyter-widgets/controls",
            "children": [
              "IPY_MODEL_b67645d91dc1419d80da3064c7bb9f79",
              "IPY_MODEL_d96cdb4ab6a64f5285108b93f58548e7"
            ]
          }
        },
        "4630f78ca78f47e7ba5cc021a50bab26": {
          "model_module": "@jupyter-widgets/base",
          "model_name": "LayoutModel",
          "state": {
            "_view_name": "LayoutView",
            "grid_template_rows": null,
            "right": null,
            "justify_content": null,
            "_view_module": "@jupyter-widgets/base",
            "overflow": null,
            "_model_module_version": "1.2.0",
            "_view_count": null,
            "flex_flow": null,
            "width": null,
            "min_width": null,
            "border": null,
            "align_items": null,
            "bottom": null,
            "_model_module": "@jupyter-widgets/base",
            "top": null,
            "grid_column": null,
            "overflow_y": null,
            "overflow_x": null,
            "grid_auto_flow": null,
            "grid_area": null,
            "grid_template_columns": null,
            "flex": null,
            "_model_name": "LayoutModel",
            "justify_items": null,
            "grid_row": null,
            "max_height": null,
            "align_content": null,
            "visibility": null,
            "align_self": null,
            "height": null,
            "min_height": null,
            "padding": null,
            "grid_auto_rows": null,
            "grid_gap": null,
            "max_width": null,
            "order": null,
            "_view_module_version": "1.2.0",
            "grid_template_areas": null,
            "object_position": null,
            "object_fit": null,
            "grid_auto_columns": null,
            "margin": null,
            "display": null,
            "left": null
          }
        },
        "b67645d91dc1419d80da3064c7bb9f79": {
          "model_module": "@jupyter-widgets/controls",
          "model_name": "FloatProgressModel",
          "state": {
            "_view_name": "ProgressView",
            "style": "IPY_MODEL_5cb6a1b936c44818b2d70378f4734570",
            "_dom_classes": [],
            "description": "100%",
            "_model_name": "FloatProgressModel",
            "bar_style": "success",
            "max": 100,
            "_view_module": "@jupyter-widgets/controls",
            "_model_module_version": "1.5.0",
            "value": 100,
            "_view_count": null,
            "_view_module_version": "1.5.0",
            "orientation": "horizontal",
            "min": 0,
            "description_tooltip": null,
            "_model_module": "@jupyter-widgets/controls",
            "layout": "IPY_MODEL_1dd5a953f3114f46af6631ccf552132e"
          }
        },
        "d96cdb4ab6a64f5285108b93f58548e7": {
          "model_module": "@jupyter-widgets/controls",
          "model_name": "HTMLModel",
          "state": {
            "_view_name": "HTMLView",
            "style": "IPY_MODEL_21c72341add84a2886a31a243bd672e9",
            "_dom_classes": [],
            "description": "",
            "_model_name": "HTMLModel",
            "placeholder": "​",
            "_view_module": "@jupyter-widgets/controls",
            "_model_module_version": "1.5.0",
            "value": " 100/100 [02:39&lt;00:00,  1.60s/it]",
            "_view_count": null,
            "_view_module_version": "1.5.0",
            "description_tooltip": null,
            "_model_module": "@jupyter-widgets/controls",
            "layout": "IPY_MODEL_6b46387327344c76b2c0c3cc210bacdb"
          }
        },
        "5cb6a1b936c44818b2d70378f4734570": {
          "model_module": "@jupyter-widgets/controls",
          "model_name": "ProgressStyleModel",
          "state": {
            "_view_name": "StyleView",
            "_model_name": "ProgressStyleModel",
            "description_width": "initial",
            "_view_module": "@jupyter-widgets/base",
            "_model_module_version": "1.5.0",
            "_view_count": null,
            "_view_module_version": "1.2.0",
            "bar_color": null,
            "_model_module": "@jupyter-widgets/controls"
          }
        },
        "1dd5a953f3114f46af6631ccf552132e": {
          "model_module": "@jupyter-widgets/base",
          "model_name": "LayoutModel",
          "state": {
            "_view_name": "LayoutView",
            "grid_template_rows": null,
            "right": null,
            "justify_content": null,
            "_view_module": "@jupyter-widgets/base",
            "overflow": null,
            "_model_module_version": "1.2.0",
            "_view_count": null,
            "flex_flow": null,
            "width": null,
            "min_width": null,
            "border": null,
            "align_items": null,
            "bottom": null,
            "_model_module": "@jupyter-widgets/base",
            "top": null,
            "grid_column": null,
            "overflow_y": null,
            "overflow_x": null,
            "grid_auto_flow": null,
            "grid_area": null,
            "grid_template_columns": null,
            "flex": null,
            "_model_name": "LayoutModel",
            "justify_items": null,
            "grid_row": null,
            "max_height": null,
            "align_content": null,
            "visibility": null,
            "align_self": null,
            "height": null,
            "min_height": null,
            "padding": null,
            "grid_auto_rows": null,
            "grid_gap": null,
            "max_width": null,
            "order": null,
            "_view_module_version": "1.2.0",
            "grid_template_areas": null,
            "object_position": null,
            "object_fit": null,
            "grid_auto_columns": null,
            "margin": null,
            "display": null,
            "left": null
          }
        },
        "21c72341add84a2886a31a243bd672e9": {
          "model_module": "@jupyter-widgets/controls",
          "model_name": "DescriptionStyleModel",
          "state": {
            "_view_name": "StyleView",
            "_model_name": "DescriptionStyleModel",
            "description_width": "",
            "_view_module": "@jupyter-widgets/base",
            "_model_module_version": "1.5.0",
            "_view_count": null,
            "_view_module_version": "1.2.0",
            "_model_module": "@jupyter-widgets/controls"
          }
        },
        "6b46387327344c76b2c0c3cc210bacdb": {
          "model_module": "@jupyter-widgets/base",
          "model_name": "LayoutModel",
          "state": {
            "_view_name": "LayoutView",
            "grid_template_rows": null,
            "right": null,
            "justify_content": null,
            "_view_module": "@jupyter-widgets/base",
            "overflow": null,
            "_model_module_version": "1.2.0",
            "_view_count": null,
            "flex_flow": null,
            "width": null,
            "min_width": null,
            "border": null,
            "align_items": null,
            "bottom": null,
            "_model_module": "@jupyter-widgets/base",
            "top": null,
            "grid_column": null,
            "overflow_y": null,
            "overflow_x": null,
            "grid_auto_flow": null,
            "grid_area": null,
            "grid_template_columns": null,
            "flex": null,
            "_model_name": "LayoutModel",
            "justify_items": null,
            "grid_row": null,
            "max_height": null,
            "align_content": null,
            "visibility": null,
            "align_self": null,
            "height": null,
            "min_height": null,
            "padding": null,
            "grid_auto_rows": null,
            "grid_gap": null,
            "max_width": null,
            "order": null,
            "_view_module_version": "1.2.0",
            "grid_template_areas": null,
            "object_position": null,
            "object_fit": null,
            "grid_auto_columns": null,
            "margin": null,
            "display": null,
            "left": null
          }
        }
      }
    }
  },
  "cells": [
    {
      "cell_type": "markdown",
      "metadata": {
        "id": "view-in-github",
        "colab_type": "text"
      },
      "source": [
        "<a href=\"https://colab.research.google.com/github/cotton-ahn/TUM_20WS_Intro2Deep/blob/main/Lecture8_Variational_Autoencoder.ipynb\" target=\"_parent\"><img src=\"https://colab.research.google.com/assets/colab-badge.svg\" alt=\"Open In Colab\"/></a>"
      ]
    },
    {
      "cell_type": "markdown",
      "metadata": {
        "id": "kmIOkV65f5S0"
      },
      "source": [
        "### Import Packages\n"
      ]
    },
    {
      "cell_type": "code",
      "metadata": {
        "id": "X1f7bWu9lJtX",
        "colab": {
          "base_uri": "https://localhost:8080/"
        },
        "outputId": "4aa4128d-ea05-4665-883d-f7a6a66bfdf3"
      },
      "source": [
        "import os\n",
        "import csv\n",
        "import numpy as np\n",
        "from tqdm.notebook import tqdm\n",
        "\n",
        "import matplotlib.pyplot as plt\n",
        "\n",
        "import torch\n",
        "import torchvision\n",
        "import torch.nn as nn\n",
        "import torch.nn.functional as F\n",
        "import torch.optim as optim\n",
        "from torch.utils.data import Dataset, DataLoader\n",
        "\n",
        "print(torch.__version__)"
      ],
      "execution_count": null,
      "outputs": [
        {
          "output_type": "stream",
          "text": [
            "1.7.0+cu101\n"
          ],
          "name": "stdout"
        }
      ]
    },
    {
      "cell_type": "markdown",
      "metadata": {
        "id": "TTj1RldNHgSQ"
      },
      "source": [
        "### MNIST dataset is provided in default"
      ]
    },
    {
      "cell_type": "code",
      "metadata": {
        "id": "pcMuF_m9Ev8W"
      },
      "source": [
        "train_path = './sample_data/mnist_train_small.csv'\n",
        "test_path = './sample_data/mnist_test.csv'\n",
        "img_size = 28"
      ],
      "execution_count": null,
      "outputs": []
    },
    {
      "cell_type": "markdown",
      "metadata": {
        "id": "PYiku-SxHnA6"
      },
      "source": [
        "### Choose your device - use GPU or not?"
      ]
    },
    {
      "cell_type": "code",
      "metadata": {
        "id": "k44xmCOHHmF4",
        "colab": {
          "base_uri": "https://localhost:8080/"
        },
        "outputId": "d58031ba-eb0b-40c9-a012-5d5abbf7ab87"
      },
      "source": [
        "# device = 'cpu'\n",
        "device = 'cuda'\n",
        "print('Current Device : {}'.format(device))"
      ],
      "execution_count": null,
      "outputs": [
        {
          "output_type": "stream",
          "text": [
            "Current Device : cuda\n"
          ],
          "name": "stdout"
        }
      ]
    },
    {
      "cell_type": "markdown",
      "metadata": {
        "id": "1lukzx9CHuNv"
      },
      "source": [
        "### Read the MNIST dataset\n",
        "- total 1+ 28x28 dimension. 1 For Label, 28**2 for image\n"
      ]
    },
    {
      "cell_type": "code",
      "metadata": {
        "id": "KACiPSPiFOyF"
      },
      "source": [
        "def mnist_reader(file_path, img_size=img_size):\n",
        "    total_img = list()\n",
        "    total_label = list()\n",
        "    with open(file_path) as csvfile:\n",
        "        mnist_reader = csv.reader(csvfile)\n",
        "        for row in tqdm(mnist_reader):\n",
        "            img = np.array(row[1:], dtype=np.uint16).reshape(img_size, img_size)\n",
        "            img = img / 255\n",
        "            label = int(row[0])\n",
        "\n",
        "            total_img.append(img)\n",
        "            total_label.append(label)\n",
        "\n",
        "    total_img = np.asarray(total_img)\n",
        "    total_label = np.asarray(total_label)\n",
        "    \n",
        "    return total_img, total_label"
      ],
      "execution_count": null,
      "outputs": []
    },
    {
      "cell_type": "code",
      "metadata": {
        "id": "sghlSXb_Gd9-",
        "colab": {
          "base_uri": "https://localhost:8080/",
          "height": 116,
          "referenced_widgets": [
            "7a128abdefa3476dbed0ff1430e2970f",
            "3b3ed20fac054cf8b8606094815b36c6",
            "a05441d5fa5748719a6da5bfda08077b",
            "ba4c9fc4f6d6416682c4a6ed7de601aa",
            "cad9fa4c88e341d5894e98518bd72405",
            "979853b9a2b5427496bcde99846ab9e5",
            "98a70b8830194852a7c19bb0f15c3269",
            "f4b186dfef134bc6a8612944edf572b3",
            "4115a30faee349a38f166d52f3aa81b7",
            "9af51c6ec46f4dafae417402e7db0fca",
            "e3f114a544254e2fb275dacf0ce758a3",
            "789fa16922474c9c917f2c60106f6868",
            "3e8037a2b9b9438182e33875eb4190c1",
            "2e69e24610874d53a21d9e7cb4c36896",
            "4393e1f81fae4cbebb77fb1e06b9742d",
            "83a60818e4bf49a882351efbaa6c9085"
          ]
        },
        "outputId": "e794b8b9-0efd-43ea-9232-b68b44b9aa7e"
      },
      "source": [
        "train_img, train_label = mnist_reader(train_path)\n",
        "test_img, test_label = mnist_reader(test_path)"
      ],
      "execution_count": null,
      "outputs": [
        {
          "output_type": "display_data",
          "data": {
            "application/vnd.jupyter.widget-view+json": {
              "model_id": "7a128abdefa3476dbed0ff1430e2970f",
              "version_minor": 0,
              "version_major": 2
            },
            "text/plain": [
              "HBox(children=(FloatProgress(value=1.0, bar_style='info', max=1.0), HTML(value='')))"
            ]
          },
          "metadata": {
            "tags": []
          }
        },
        {
          "output_type": "stream",
          "text": [
            "\n"
          ],
          "name": "stdout"
        },
        {
          "output_type": "display_data",
          "data": {
            "application/vnd.jupyter.widget-view+json": {
              "model_id": "4115a30faee349a38f166d52f3aa81b7",
              "version_minor": 0,
              "version_major": 2
            },
            "text/plain": [
              "HBox(children=(FloatProgress(value=1.0, bar_style='info', max=1.0), HTML(value='')))"
            ]
          },
          "metadata": {
            "tags": []
          }
        },
        {
          "output_type": "stream",
          "text": [
            "\n"
          ],
          "name": "stdout"
        }
      ]
    },
    {
      "cell_type": "markdown",
      "metadata": {
        "id": "XwsvttO0IJRL"
      },
      "source": [
        "### Define the Dataset"
      ]
    },
    {
      "cell_type": "code",
      "metadata": {
        "id": "naa0-u1dGc6H"
      },
      "source": [
        "class MNIST_Dataset(Dataset):\n",
        "    def __init__(self, target_img, target_label):\n",
        "        self.target_img = target_img\n",
        "        self.target_label = target_label\n",
        "        self.num_data = target_img.shape[0]\n",
        "\n",
        "    def __len__(self):\n",
        "        return self.num_data\n",
        "\n",
        "    def __getitem__(self, idx):\n",
        "        sample = dict()\n",
        "        sample['img'] = self.target_img[idx]\n",
        "        sample['label'] = self.target_label[idx]\n",
        "\n",
        "        return sample"
      ],
      "execution_count": null,
      "outputs": []
    },
    {
      "cell_type": "markdown",
      "metadata": {
        "id": "j3S8BdL5IMcb"
      },
      "source": [
        "### Define the DataLoader"
      ]
    },
    {
      "cell_type": "code",
      "metadata": {
        "id": "Qu2Vn-qbIeTa"
      },
      "source": [
        "batch_size = 64\n",
        "\n",
        "train_dataset = MNIST_Dataset(train_img, train_label)\n",
        "train_dataloader = DataLoader(train_dataset, batch_size=batch_size, shuffle=True)"
      ],
      "execution_count": null,
      "outputs": []
    },
    {
      "cell_type": "markdown",
      "metadata": {
        "id": "sT_N_IqnIQgQ"
      },
      "source": [
        "### Try to sample out one data point from dataloader"
      ]
    },
    {
      "cell_type": "code",
      "metadata": {
        "id": "RAiU23NUKFl7",
        "colab": {
          "base_uri": "https://localhost:8080/"
        },
        "outputId": "416ba254-fd05-4c9a-cba1-ae1991851edf"
      },
      "source": [
        "sample = next(iter(train_dataloader))\n",
        "print(sample['img'].shape)\n",
        "print(sample['label'].shape)"
      ],
      "execution_count": null,
      "outputs": [
        {
          "output_type": "stream",
          "text": [
            "torch.Size([64, 28, 28])\n",
            "torch.Size([64])\n"
          ],
          "name": "stdout"
        }
      ]
    },
    {
      "cell_type": "code",
      "metadata": {
        "id": "XnDU90xVTpqC",
        "colab": {
          "base_uri": "https://localhost:8080/",
          "height": 281
        },
        "outputId": "1b71b03b-990f-495d-cc85-42347e8790f4"
      },
      "source": [
        "plot_idx = 0\n",
        "plt.imshow(sample['img'][plot_idx])\n",
        "plt.title('LABEL : {}'.format(sample['label'][plot_idx]))\n",
        "plt.show()"
      ],
      "execution_count": null,
      "outputs": [
        {
          "output_type": "display_data",
          "data": {
            "image/png": "[encoded data removed]",
            "text/plain": [
              "<Figure size 432x288 with 1 Axes>"
            ]
          },
          "metadata": {
            "tags": [],
            "needs_background": "light"
          }
        }
      ]
    },
    {
      "cell_type": "markdown",
      "metadata": {
        "id": "LEjuX7lWIYlb"
      },
      "source": [
        "### Define the VAE (encoder + decoder)"
      ]
    },
    {
      "cell_type": "code",
      "metadata": {
        "id": "Cx-fxCW5JD_w"
      },
      "source": [
        "class VAE(nn.Module):\n",
        "    def __init__(self, dim_hidden_1, dim_hidden_2, dim_z, dim_input=img_size**2):\n",
        "        super(VAE, self).__init__()\n",
        "        \n",
        "        # define hidden dimension\n",
        "        self.dim_hidden_1 = dim_hidden_1\n",
        "        self.dim_hidden_2 = dim_hidden_2\n",
        "        self.dim_z = dim_z\n",
        "        self.dim_input = dim_input\n",
        "\n",
        "        # define encoder\n",
        "        self.enc_1 = nn.Linear(dim_input, dim_hidden_1)\n",
        "        self.enc_2 = nn.Linear(dim_hidden_1, dim_hidden_2)\n",
        "        self.enc_z_mean = nn.Linear(dim_hidden_2, dim_z)\n",
        "        self.enc_z_logvar = nn.Linear(dim_hidden_2, dim_z)\n",
        "\n",
        "        # define decoder\n",
        "        self.dec_1 = nn.Linear(dim_z, dim_hidden_2)\n",
        "        self.dec_2 = nn.Linear(dim_hidden_2, dim_hidden_1)\n",
        "        self.dec_3 = nn.Linear(dim_hidden_1, dim_input)\n",
        "    \n",
        "        self.activation = nn.ReLU()\n",
        "        # self.dropout = nn.Dropout(0.5)\n",
        "\n",
        "    def encoder(self, img):\n",
        "        batch_size = img.shape[0]\n",
        "        input = img.view(batch_size, -1)\n",
        "\n",
        "        tmp_z = self.activation(self.enc_1(input))\n",
        "        tmp_z = self.activation(self.enc_2(tmp_z))\n",
        "        z_mean = self.enc_z_mean(tmp_z)\n",
        "        z_logvar = self.enc_z_logvar(tmp_z)\n",
        "\n",
        "        return z_mean, z_logvar\n",
        "\n",
        "    def sampling(self, mean, logvar):\n",
        "        std = torch.exp(0.5*logvar)\n",
        "        eps = torch.randn_like(std)\n",
        "        z_sample = torch.mul(eps, std) + mean\n",
        "        return z_sample \n",
        "        \n",
        "    def decoder(self, z_sample):\n",
        "        out = self.activation(self.dec_1(z_sample))\n",
        "        out = self.activation(self.dec_2(out))\n",
        "        out = torch.sigmoid(self.dec_3(out))\n",
        "        return out\n",
        "    \n",
        "    def forward(self, img):\n",
        "        z_mean, z_logvar = self.encoder(img)\n",
        "        z_sample = self.sampling(z_mean, z_logvar)\n",
        "        return self.decoder(z_sample), z_mean, z_logvar"
      ],
      "execution_count": null,
      "outputs": []
    },
    {
      "cell_type": "markdown",
      "metadata": {
        "id": "r4hjFl4-IsqO"
      },
      "source": [
        "### Define the Model"
      ]
    },
    {
      "cell_type": "code",
      "metadata": {
        "id": "ZWtw-y-MKuv1",
        "colab": {
          "base_uri": "https://localhost:8080/"
        },
        "outputId": "75db62d1-cc28-40dd-b0f6-363a705e7b37"
      },
      "source": [
        "dim_hidden_1 = 512\n",
        "dim_hidden_2 = 256\n",
        "dim_z = 128\n",
        "model = VAE(dim_hidden_1, dim_hidden_2, dim_z)\n",
        "model = model.to(device)\n",
        "\n",
        "optimizer = optim.Adam(model.parameters(), lr=1e-4)\n",
        "print(model)"
      ],
      "execution_count": null,
      "outputs": [
        {
          "output_type": "stream",
          "text": [
            "VAE(\n",
            "  (enc_1): Linear(in_features=784, out_features=512, bias=True)\n",
            "  (enc_2): Linear(in_features=512, out_features=256, bias=True)\n",
            "  (enc_z_mean): Linear(in_features=256, out_features=128, bias=True)\n",
            "  (enc_z_logvar): Linear(in_features=256, out_features=128, bias=True)\n",
            "  (dec_1): Linear(in_features=128, out_features=256, bias=True)\n",
            "  (dec_2): Linear(in_features=256, out_features=512, bias=True)\n",
            "  (dec_3): Linear(in_features=512, out_features=784, bias=True)\n",
            "  (activation): ReLU()\n",
            ")\n"
          ],
          "name": "stdout"
        }
      ]
    },
    {
      "cell_type": "markdown",
      "metadata": {
        "id": "-KjpE_mygY6U"
      },
      "source": [
        "#### Note that the KL dirvergence $D_{KL}(q_\\phi(z|x^{(i)}\\|p_\\theta(z))$ is calculated as\n",
        "#### -$\\frac{1}{2}\\sum_{j=1}^{J}\\Big( 1 + \\log((\\sigma_j^{(i)})^2) - (\\mu_j^{(i)})^2 - (\\sigma_j^{(i)})^2 \\Big)$"
      ]
    },
    {
      "cell_type": "code",
      "metadata": {
        "id": "BHTp8_5BiBsH"
      },
      "source": [
        "def criterion(recon_img, img, z_mean, z_logvar):\r\n",
        "    BCE_loss = F.binary_cross_entropy(recon_img, img.view(-1, img_size**2), reduction='sum')\r\n",
        "    KL_loss = -0.5 * torch.sum(1 + z_logvar - z_mean**2 - torch.exp(z_logvar))\r\n",
        "    return BCE_loss + KL_loss"
      ],
      "execution_count": null,
      "outputs": []
    },
    {
      "cell_type": "markdown",
      "metadata": {
        "id": "DUSpLgVXIwqG"
      },
      "source": [
        "### Define functions for train/test"
      ]
    },
    {
      "cell_type": "code",
      "metadata": {
        "id": "Q9pXkpAMK42y"
      },
      "source": [
        "def train(model, optimizer, sample):\n",
        "    model.train()\n",
        "    optimizer.zero_grad()\n",
        "\n",
        "    img = sample['img'].float().to(device)\n",
        "    \n",
        "    recon_img, z_mean, z_logvar = model(img)\n",
        "\n",
        "    curr_loss = criterion(recon_img, img, z_mean, z_logvar)\n",
        "\n",
        "    curr_loss.backward()\n",
        "    optimizer.step()\n",
        "\n",
        "    return curr_loss.item()"
      ],
      "execution_count": null,
      "outputs": []
    },
    {
      "cell_type": "code",
      "metadata": {
        "id": "MhcKwq8WOUGu"
      },
      "source": [
        "def test(model):\n",
        "    model.eval()\n",
        "    with torch.no_grad():\n",
        "        z_sample = torch.randn(1, dim_z).to(device)\n",
        "        gen_out = model.decoder(z_sample)\n",
        "\n",
        "    return gen_out.view(img_size, img_size).detach().cpu().numpy()"
      ],
      "execution_count": null,
      "outputs": []
    },
    {
      "cell_type": "markdown",
      "metadata": {
        "id": "T23Toz8vI7Gu"
      },
      "source": [
        "### Run Training"
      ]
    },
    {
      "cell_type": "code",
      "metadata": {
        "id": "-kTrpt4YMRS6",
        "colab": {
          "base_uri": "https://localhost:8080/",
          "height": 1000,
          "referenced_widgets": [
            "22b56bebbb4742088f953644f03056da",
            "4630f78ca78f47e7ba5cc021a50bab26",
            "b67645d91dc1419d80da3064c7bb9f79",
            "d96cdb4ab6a64f5285108b93f58548e7",
            "5cb6a1b936c44818b2d70378f4734570",
            "1dd5a953f3114f46af6631ccf552132e",
            "21c72341add84a2886a31a243bd672e9",
            "6b46387327344c76b2c0c3cc210bacdb"
          ]
        },
        "outputId": "8c53bb92-a8ed-4d1c-a586-36d652cbf4ac"
      },
      "source": [
        "max_epoch = 100\n",
        "\n",
        "for epoch in tqdm(range(max_epoch)):        \n",
        "    ###Train Phase\n",
        "    \n",
        "    # Initialize Loss\n",
        "    train_loss = 0.0\n",
        "\n",
        "    # Iterate over the train_dataloader\n",
        "    for idx, sample in enumerate(train_dataloader):\n",
        "        curr_loss = train(model, optimizer, sample)\n",
        "        train_loss += curr_loss / len(train_dataloader)\n",
        "        \n",
        "    print('[EPOCH {}] SAMPLED TRAINING LOSS : {}'.format(epoch, train_loss))"
      ],
      "execution_count": null,
      "outputs": [
        {
          "output_type": "display_data",
          "data": {
            "application/vnd.jupyter.widget-view+json": {
              "model_id": "22b56bebbb4742088f953644f03056da",
              "version_minor": 0,
              "version_major": 2
            },
            "text/plain": [
              "HBox(children=(FloatProgress(value=0.0), HTML(value='')))"
            ]
          },
          "metadata": {
            "tags": []
          }
        },
        {
          "output_type": "stream",
          "text": [
            "[EPOCH 0] SAMPLED TRAINING LOSS : 16234.163747379196\n",
            "[EPOCH 1] SAMPLED TRAINING LOSS : 12703.19549190046\n",
            "[EPOCH 2] SAMPLED TRAINING LOSS : 12377.06413488418\n",
            "[EPOCH 3] SAMPLED TRAINING LOSS : 12000.800069888175\n",
            "[EPOCH 4] SAMPLED TRAINING LOSS : 11441.448739828775\n",
            "[EPOCH 5] SAMPLED TRAINING LOSS : 10847.804069738419\n",
            "[EPOCH 6] SAMPLED TRAINING LOSS : 10479.248221595446\n",
            "[EPOCH 7] SAMPLED TRAINING LOSS : 10260.231279952075\n",
            "[EPOCH 8] SAMPLED TRAINING LOSS : 10048.832385370899\n",
            "[EPOCH 9] SAMPLED TRAINING LOSS : 9883.209528816391\n",
            "[EPOCH 10] SAMPLED TRAINING LOSS : 9729.910159370002\n",
            "[EPOCH 11] SAMPLED TRAINING LOSS : 9601.566747890882\n",
            "[EPOCH 12] SAMPLED TRAINING LOSS : 9472.845394244212\n",
            "[EPOCH 13] SAMPLED TRAINING LOSS : 9349.035657011282\n",
            "[EPOCH 14] SAMPLED TRAINING LOSS : 9225.047999762879\n",
            "[EPOCH 15] SAMPLED TRAINING LOSS : 9111.24748527356\n",
            "[EPOCH 16] SAMPLED TRAINING LOSS : 8999.984852361225\n",
            "[EPOCH 17] SAMPLED TRAINING LOSS : 8887.106701153152\n",
            "[EPOCH 18] SAMPLED TRAINING LOSS : 8783.954524323586\n",
            "[EPOCH 19] SAMPLED TRAINING LOSS : 8683.451530675924\n",
            "[EPOCH 20] SAMPLED TRAINING LOSS : 8580.334806497101\n",
            "[EPOCH 21] SAMPLED TRAINING LOSS : 8476.719037040744\n",
            "[EPOCH 22] SAMPLED TRAINING LOSS : 8388.852905663442\n",
            "[EPOCH 23] SAMPLED TRAINING LOSS : 8298.92572976987\n",
            "[EPOCH 24] SAMPLED TRAINING LOSS : 8211.325463633184\n",
            "[EPOCH 25] SAMPLED TRAINING LOSS : 8123.304523699578\n",
            "[EPOCH 26] SAMPLED TRAINING LOSS : 8049.260882587859\n",
            "[EPOCH 27] SAMPLED TRAINING LOSS : 7968.76856248752\n",
            "[EPOCH 28] SAMPLED TRAINING LOSS : 7894.798921725238\n",
            "[EPOCH 29] SAMPLED TRAINING LOSS : 7830.713168305711\n",
            "[EPOCH 30] SAMPLED TRAINING LOSS : 7761.962832904847\n",
            "[EPOCH 31] SAMPLED TRAINING LOSS : 7709.333765974441\n",
            "[EPOCH 32] SAMPLED TRAINING LOSS : 7656.5393386207\n",
            "[EPOCH 33] SAMPLED TRAINING LOSS : 7601.038436938396\n",
            "[EPOCH 34] SAMPLED TRAINING LOSS : 7559.308522769819\n",
            "[EPOCH 35] SAMPLED TRAINING LOSS : 7513.238295290032\n",
            "[EPOCH 36] SAMPLED TRAINING LOSS : 7468.401266567244\n",
            "[EPOCH 37] SAMPLED TRAINING LOSS : 7428.142996206069\n",
            "[EPOCH 38] SAMPLED TRAINING LOSS : 7390.787780176715\n",
            "[EPOCH 39] SAMPLED TRAINING LOSS : 7354.785855911792\n",
            "[EPOCH 40] SAMPLED TRAINING LOSS : 7320.4031892721605\n",
            "[EPOCH 41] SAMPLED TRAINING LOSS : 7288.115721096246\n",
            "[EPOCH 42] SAMPLED TRAINING LOSS : 7257.691219049524\n",
            "[EPOCH 43] SAMPLED TRAINING LOSS : 7229.614701633637\n",
            "[EPOCH 44] SAMPLED TRAINING LOSS : 7201.2521372054725\n",
            "[EPOCH 45] SAMPLED TRAINING LOSS : 7171.238338190144\n",
            "[EPOCH 46] SAMPLED TRAINING LOSS : 7148.034231947633\n",
            "[EPOCH 47] SAMPLED TRAINING LOSS : 7125.908733526359\n",
            "[EPOCH 48] SAMPLED TRAINING LOSS : 7099.376432083665\n",
            "[EPOCH 49] SAMPLED TRAINING LOSS : 7075.009809305115\n",
            "[EPOCH 50] SAMPLED TRAINING LOSS : 7052.434295751798\n",
            "[EPOCH 51] SAMPLED TRAINING LOSS : 7028.073663388581\n",
            "[EPOCH 52] SAMPLED TRAINING LOSS : 7005.663310578068\n",
            "[EPOCH 53] SAMPLED TRAINING LOSS : 6988.433542269871\n",
            "[EPOCH 54] SAMPLED TRAINING LOSS : 6966.480571710264\n",
            "[EPOCH 55] SAMPLED TRAINING LOSS : 6950.7317807133595\n",
            "[EPOCH 56] SAMPLED TRAINING LOSS : 6935.805507282097\n",
            "[EPOCH 57] SAMPLED TRAINING LOSS : 6916.298154203277\n",
            "[EPOCH 58] SAMPLED TRAINING LOSS : 6897.533756926417\n",
            "[EPOCH 59] SAMPLED TRAINING LOSS : 6882.978604545224\n",
            "[EPOCH 60] SAMPLED TRAINING LOSS : 6866.580378425765\n",
            "[EPOCH 61] SAMPLED TRAINING LOSS : 6855.408520585811\n",
            "[EPOCH 62] SAMPLED TRAINING LOSS : 6841.089186988319\n",
            "[EPOCH 63] SAMPLED TRAINING LOSS : 6827.662892497007\n",
            "[EPOCH 64] SAMPLED TRAINING LOSS : 6814.701380915533\n",
            "[EPOCH 65] SAMPLED TRAINING LOSS : 6802.6193200254575\n",
            "[EPOCH 66] SAMPLED TRAINING LOSS : 6788.7095405164255\n",
            "[EPOCH 67] SAMPLED TRAINING LOSS : 6772.154328855085\n",
            "[EPOCH 68] SAMPLED TRAINING LOSS : 6767.661221732732\n",
            "[EPOCH 69] SAMPLED TRAINING LOSS : 6750.284886369313\n",
            "[EPOCH 70] SAMPLED TRAINING LOSS : 6742.502132525458\n",
            "[EPOCH 71] SAMPLED TRAINING LOSS : 6728.235608183156\n",
            "[EPOCH 72] SAMPLED TRAINING LOSS : 6721.38516576603\n",
            "[EPOCH 73] SAMPLED TRAINING LOSS : 6709.684517272366\n",
            "[EPOCH 74] SAMPLED TRAINING LOSS : 6699.434296531795\n",
            "[EPOCH 75] SAMPLED TRAINING LOSS : 6691.01083032772\n",
            "[EPOCH 76] SAMPLED TRAINING LOSS : 6682.022669198033\n",
            "[EPOCH 77] SAMPLED TRAINING LOSS : 6675.15526017747\n",
            "[EPOCH 78] SAMPLED TRAINING LOSS : 6666.330216965359\n",
            "[EPOCH 79] SAMPLED TRAINING LOSS : 6655.683416689541\n",
            "[EPOCH 80] SAMPLED TRAINING LOSS : 6652.192806353584\n",
            "[EPOCH 81] SAMPLED TRAINING LOSS : 6636.331562468802\n",
            "[EPOCH 82] SAMPLED TRAINING LOSS : 6632.041528866314\n",
            "[EPOCH 83] SAMPLED TRAINING LOSS : 6627.299544166834\n",
            "[EPOCH 84] SAMPLED TRAINING LOSS : 6615.412910437052\n",
            "[EPOCH 85] SAMPLED TRAINING LOSS : 6604.985091821835\n",
            "[EPOCH 86] SAMPLED TRAINING LOSS : 6604.284965929508\n",
            "[EPOCH 87] SAMPLED TRAINING LOSS : 6598.809231791628\n",
            "[EPOCH 88] SAMPLED TRAINING LOSS : 6590.919354033542\n",
            "[EPOCH 89] SAMPLED TRAINING LOSS : 6583.414428320934\n",
            "[EPOCH 90] SAMPLED TRAINING LOSS : 6578.422355481229\n",
            "[EPOCH 91] SAMPLED TRAINING LOSS : 6567.340735292281\n",
            "[EPOCH 92] SAMPLED TRAINING LOSS : 6562.999501578723\n",
            "[EPOCH 93] SAMPLED TRAINING LOSS : 6560.632977860425\n",
            "[EPOCH 94] SAMPLED TRAINING LOSS : 6549.001747204478\n",
            "[EPOCH 95] SAMPLED TRAINING LOSS : 6544.000318240817\n",
            "[EPOCH 96] SAMPLED TRAINING LOSS : 6541.175060528151\n",
            "[EPOCH 97] SAMPLED TRAINING LOSS : 6535.33423397564\n",
            "[EPOCH 98] SAMPLED TRAINING LOSS : 6528.680315401611\n",
            "[EPOCH 99] SAMPLED TRAINING LOSS : 6522.159877789287\n",
            "\n"
          ],
          "name": "stdout"
        }
      ]
    },
    {
      "cell_type": "code",
      "metadata": {
        "colab": {
          "base_uri": "https://localhost:8080/",
          "height": 98
        },
        "id": "Zsve2TFhkE1I",
        "outputId": "63af7b80-2e11-4258-9042-ee393ef160c9"
      },
      "source": [
        "fig, ax = plt.subplots(1, 10, figsize=(10, 3))\r\n",
        "for i in range(10):\r\n",
        "    ax[i].imshow(test(model))"
      ],
      "execution_count": null,
      "outputs": [
        {
          "output_type": "display_data",
          "data": {
            "image/png": "[encoded data removed]",
            "text/plain": [
              "<Figure size 720x216 with 10 Axes>"
            ]
          },
          "metadata": {
            "tags": [],
            "needs_background": "light"
          }
        }
      ]
    },
    {
      "cell_type": "code",
      "metadata": {
        "id": "cMhOXA1V4SP_"
      },
      "source": [
        ""
      ],
      "execution_count": null,
      "outputs": []
    }
  ]
}