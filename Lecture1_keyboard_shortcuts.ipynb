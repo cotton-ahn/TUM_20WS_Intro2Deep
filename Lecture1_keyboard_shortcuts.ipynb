{
  "nbformat": 4,
  "nbformat_minor": 0,
  "metadata": {
    "colab": {
      "name": "Lecture_1_keyboard_shortcuts.ipynb",
      "provenance": [],
      "collapsed_sections": [],
      "authorship_tag": "ABX9TyNeixbqMzXDiVkhdFDlkbZv",
      "include_colab_link": true
    },
    "kernelspec": {
      "name": "python3",
      "display_name": "Python 3"
    }
  },
  "cells": [
    {
      "cell_type": "markdown",
      "metadata": {
        "id": "view-in-github",
        "colab_type": "text"
      },
      "source": [
        "<a href=\"https://colab.research.google.com/github/cotton-ahn/TUM_20WS_Intro2Deep/blob/main/Lecture1_keyboard_shortcuts.ipynb\" target=\"_parent\"><img src=\"https://colab.research.google.com/assets/colab-badge.svg\" alt=\"Open In Colab\"/></a>"
      ]
    },
    {
      "cell_type": "markdown",
      "metadata": {
        "id": "hUfOg53CR0tD"
      },
      "source": [
        "###Choose the cell below, and try \"Ctrl+Enter\" to run it."
      ]
    },
    {
      "cell_type": "code",
      "metadata": {
        "id": "QAZfAyVoPWDW"
      },
      "source": [
        "print(\"Ctrl+Enter ---> Run the selected cell\")\n",
        "print(\"Ctrl+Shift+Enter ---> Run the selected MULTIPLE cells\")\n",
        "print(\"Alt+Enter ---> Run the currently selected cell and add new one below\")"
      ],
      "execution_count": null,
      "outputs": []
    },
    {
      "cell_type": "code",
      "metadata": {
        "id": "NHFBqpEpWqnu"
      },
      "source": [
        "print(\"ESC -->  Get out of the editing mode, and try up and down in your keyboard\")\n",
        "print(\"Enter or Click --> Start the editing mode of current cell\")"
      ],
      "execution_count": null,
      "outputs": []
    },
    {
      "cell_type": "markdown",
      "metadata": {
        "id": "SScyObY5Ro7A"
      },
      "source": [
        "###Try to add the sell above by \"Ctrl+M+A\", and below by \"Ctrl+M+B\""
      ]
    },
    {
      "cell_type": "code",
      "metadata": {
        "id": "Dx78cCz0Spln"
      },
      "source": [
        "print(\"Ctrl+M+A ---> Add the cell Above the selected one\")\n",
        "print(\"Ctrl+M+B ---> Add the cell Below the selected one\")"
      ],
      "execution_count": null,
      "outputs": []
    },
    {
      "cell_type": "markdown",
      "metadata": {
        "id": "3XHEm5KMTe0n"
      },
      "source": [
        "Let's Change this into the Text by \"Ctrl+M+M\""
      ]
    },
    {
      "cell_type": "code",
      "metadata": {
        "id": "tket0tNxT0GO"
      },
      "source": [
        "print(\"Change this to the Code by Ctrl+M+Y\")"
      ],
      "execution_count": null,
      "outputs": []
    },
    {
      "cell_type": "markdown",
      "metadata": {
        "id": "GtxlfctYTafw"
      },
      "source": [
        "###Divide A and B !  Put cursor to the last part of the 3rd line, and \"Ctrl+M+ - \""
      ]
    },
    {
      "cell_type": "code",
      "metadata": {
        "id": "m0appaQjTWmu"
      },
      "source": [
        "print('AAAAAAA')\n",
        "print('AAAAAAA')\n",
        "print('AAAAAAA')\n",
        "print('BBBBBBB')\n",
        "print('BBBBBBB')\n",
        "print('BBBBBBB')"
      ],
      "execution_count": null,
      "outputs": []
    },
    {
      "cell_type": "markdown",
      "metadata": {
        "id": "jo-2ZLR4TXQW"
      },
      "source": [
        "###Delete the BUG CELLs below by \"Ctrl+M+D\". You can make it appear again by \"Ctrl+M+Z\" (Undo), and erase it by \"Ctrl+Shift+Y\""
      ]
    },
    {
      "cell_type": "code",
      "metadata": {
        "id": "VR95AwtVUwOt"
      },
      "source": [
        "for i in range(10):\n",
        "    for j in range(10):\n",
        "        print(\"Value : \", i/j)"
      ],
      "execution_count": null,
      "outputs": []
    },
    {
      "cell_type": "code",
      "metadata": {
        "id": "wtDfCUvKV75P"
      },
      "source": [
        "print(\"Ctrl+F9 : Run all cells\")\n",
        "print(\"Ctrl+F8 : Run cells above the selected cell\")\n",
        "print(\"Ctrl+F10 : Run the selected cell + all cells below\")\n",
        "print(\"Ctrl+M+.: Restart the Session\")"
      ],
      "execution_count": null,
      "outputs": []
    },
    {
      "cell_type": "code",
      "metadata": {
        "id": "UaAxQakiXszm"
      },
      "source": [
        "print(\"Want to erase all outputs?\")\n",
        "print(\"You can add your own shortcut. I am using Ctrl+M+C\")"
      ],
      "execution_count": null,
      "outputs": []
    }
  ]
}